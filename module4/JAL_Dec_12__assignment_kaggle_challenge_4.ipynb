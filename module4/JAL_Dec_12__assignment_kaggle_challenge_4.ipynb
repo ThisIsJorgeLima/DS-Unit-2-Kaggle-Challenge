{
  "nbformat": 4,
  "nbformat_minor": 0,
  "metadata": {
    "colab": {
      "name": "JAL_Dec_12_ assignment_kaggle_challenge_4.ipynb",
      "provenance": [],
      "collapsed_sections": [],
      "include_colab_link": true
    },
    "kernelspec": {
      "display_name": "Python 3",
      "language": "python",
      "name": "python3"
    },
    "language_info": {
      "codemirror_mode": {
        "name": "ipython",
        "version": 3
      },
      "file_extension": ".py",
      "mimetype": "text/x-python",
      "name": "python",
      "nbconvert_exporter": "python",
      "pygments_lexer": "ipython3",
      "version": "3.7.3"
    },
    "widgets": {
      "application/vnd.jupyter.widget-state+json": {
        "858025390e7741f6a025a98c49792267": {
          "model_module": "@jupyter-widgets/controls",
          "model_name": "VBoxModel",
          "state": {
            "_view_name": "VBoxView",
            "_dom_classes": [
              "widget-interact"
            ],
            "_model_name": "VBoxModel",
            "_view_module": "@jupyter-widgets/controls",
            "_model_module_version": "1.5.0",
            "_view_count": null,
            "_view_module_version": "1.5.0",
            "box_style": "",
            "layout": "IPY_MODEL_b0c9ec80e4624884bd85c8210b5ef252",
            "_model_module": "@jupyter-widgets/controls",
            "children": [
              "IPY_MODEL_57acee3947f44151990f62e140ea6985",
              "IPY_MODEL_06fa6a5902994b1ca58e68d2d10fdf4f"
            ]
          }
        },
        "b0c9ec80e4624884bd85c8210b5ef252": {
          "model_module": "@jupyter-widgets/base",
          "model_name": "LayoutModel",
          "state": {
            "_view_name": "LayoutView",
            "grid_template_rows": null,
            "right": null,
            "justify_content": null,
            "_view_module": "@jupyter-widgets/base",
            "overflow": null,
            "_model_module_version": "1.2.0",
            "_view_count": null,
            "flex_flow": null,
            "width": null,
            "min_width": null,
            "border": null,
            "align_items": null,
            "bottom": null,
            "_model_module": "@jupyter-widgets/base",
            "top": null,
            "grid_column": null,
            "overflow_y": null,
            "overflow_x": null,
            "grid_auto_flow": null,
            "grid_area": null,
            "grid_template_columns": null,
            "flex": null,
            "_model_name": "LayoutModel",
            "justify_items": null,
            "grid_row": null,
            "max_height": null,
            "align_content": null,
            "visibility": null,
            "align_self": null,
            "height": null,
            "min_height": null,
            "padding": null,
            "grid_auto_rows": null,
            "grid_gap": null,
            "max_width": null,
            "order": null,
            "_view_module_version": "1.2.0",
            "grid_template_areas": null,
            "object_position": null,
            "object_fit": null,
            "grid_auto_columns": null,
            "margin": null,
            "display": null,
            "left": null
          }
        },
        "57acee3947f44151990f62e140ea6985": {
          "model_module": "@jupyter-widgets/controls",
          "model_name": "FloatSliderModel",
          "state": {
            "_view_name": "FloatSliderView",
            "style": "IPY_MODEL_39add58a3988433da096e6492dc7996a",
            "_dom_classes": [],
            "description": "threshold",
            "step": 0.02,
            "_model_name": "FloatSliderModel",
            "orientation": "horizontal",
            "max": 1,
            "_view_module": "@jupyter-widgets/controls",
            "_model_module_version": "1.5.0",
            "value": 0.5,
            "_view_count": null,
            "disabled": false,
            "_view_module_version": "1.5.0",
            "min": 0,
            "continuous_update": true,
            "readout_format": ".2f",
            "description_tooltip": null,
            "readout": true,
            "_model_module": "@jupyter-widgets/controls",
            "layout": "IPY_MODEL_606f66c85c074160bc437169bdd2221a"
          }
        },
        "06fa6a5902994b1ca58e68d2d10fdf4f": {
          "model_module": "@jupyter-widgets/output",
          "model_name": "OutputModel",
          "state": {
            "_view_name": "OutputView",
            "msg_id": "",
            "_dom_classes": [],
            "_model_name": "OutputModel",
            "outputs": [
              {
                "output_type": "display_data",
                "metadata": {
                  "tags": []
                },
                "image/png": "iVBORw0KGgoAAAANSUhEUgAAAXgAAAD4CAYAAADmWv3KAAAABHNCSVQICAgIfAhkiAAAAAlwSFlz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\n",
                "text/plain": "<Figure size 432x288 with 1 Axes>"
              },
              {
                "output_type": "stream",
                "metadata": {
                  "tags": []
                },
                "text": "              precision    recall  f1-score   support\n\n       False       0.82      0.88      0.85      7798\n        True       0.84      0.77      0.80      6560\n\n    accuracy                           0.83     14358\n   macro avg       0.83      0.82      0.82     14358\nweighted avg       0.83      0.83      0.83     14358\n\n",
                "stream": "stdout"
              },
              {
                "output_type": "display_data",
                "metadata": {
                  "tags": []
                },
                "image/png": "iVBORw0KGgoAAAANSUhEUgAAAWYAAAD4CAYAAADfPUyRAAAABHNCSVQICAgIfAhkiAAAAAlwSFlz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\n",
                "text/plain": "<Figure size 432x288 with 2 Axes>"
              }
            ],
            "_view_module": "@jupyter-widgets/output",
            "_model_module_version": "1.0.0",
            "_view_count": null,
            "_view_module_version": "1.0.0",
            "layout": "IPY_MODEL_d082ae4a875247f5ba151f16ecf92844",
            "_model_module": "@jupyter-widgets/output"
          }
        },
        "39add58a3988433da096e6492dc7996a": {
          "model_module": "@jupyter-widgets/controls",
          "model_name": "SliderStyleModel",
          "state": {
            "_view_name": "StyleView",
            "handle_color": null,
            "_model_name": "SliderStyleModel",
            "description_width": "",
            "_view_module": "@jupyter-widgets/base",
            "_model_module_version": "1.5.0",
            "_view_count": null,
            "_view_module_version": "1.2.0",
            "_model_module": "@jupyter-widgets/controls"
          }
        },
        "606f66c85c074160bc437169bdd2221a": {
          "model_module": "@jupyter-widgets/base",
          "model_name": "LayoutModel",
          "state": {
            "_view_name": "LayoutView",
            "grid_template_rows": null,
            "right": null,
            "justify_content": null,
            "_view_module": "@jupyter-widgets/base",
            "overflow": null,
            "_model_module_version": "1.2.0",
            "_view_count": null,
            "flex_flow": null,
            "width": null,
            "min_width": null,
            "border": null,
            "align_items": null,
            "bottom": null,
            "_model_module": "@jupyter-widgets/base",
            "top": null,
            "grid_column": null,
            "overflow_y": null,
            "overflow_x": null,
            "grid_auto_flow": null,
            "grid_area": null,
            "grid_template_columns": null,
            "flex": null,
            "_model_name": "LayoutModel",
            "justify_items": null,
            "grid_row": null,
            "max_height": null,
            "align_content": null,
            "visibility": null,
            "align_self": null,
            "height": null,
            "min_height": null,
            "padding": null,
            "grid_auto_rows": null,
            "grid_gap": null,
            "max_width": null,
            "order": null,
            "_view_module_version": "1.2.0",
            "grid_template_areas": null,
            "object_position": null,
            "object_fit": null,
            "grid_auto_columns": null,
            "margin": null,
            "display": null,
            "left": null
          }
        }
      }
    }
  },
  "cells": [
    {
      "cell_type": "markdown",
      "metadata": {
        "id": "view-in-github",
        "colab_type": "text"
      },
      "source": [
        "<a href=\"https://colab.research.google.com/github/ThisIsJorgeLima/DS-Unit-2-Kaggle-Challenge/blob/master/module4/JAL_Dec_12__assignment_kaggle_challenge_4.ipynb\" target=\"_parent\"><img src=\"https://colab.research.google.com/assets/colab-badge.svg\" alt=\"Open In Colab\"/></a>"
      ]
    },
    {
      "cell_type": "markdown",
      "metadata": {
        "id": "14GregN3bOhD",
        "colab_type": "text"
      },
      "source": [
        "Lambda School Data Science\n",
        "\n",
        "*Unit 2, Sprint 2, Module 4*\n",
        "\n",
        "---"
      ]
    },
    {
      "cell_type": "markdown",
      "metadata": {
        "colab_type": "text",
        "id": "nCc3XZEyG3XV"
      },
      "source": [
        "# Classification Metrics\n",
        "\n",
        "## Assignment\n",
        "- [ ] If you haven't yet, [review requirements for your portfolio project](https://lambdaschool.github.io/ds/unit2), then submit your dataset.\n",
        "- [ ] Plot a confusion matrix for your Tanzania Waterpumps model.\n",
        "- [ ] Continue to participate in our Kaggle challenge. Every student should have made at least one submission that scores at least 70% accuracy (well above the majority class baseline).\n",
        "- [ ] Submit your final predictions to our Kaggle competition. Optionally, go to **My Submissions**, and _\"you may select up to 1 submission to be used to count towards your final leaderboard score.\"_\n",
        "- [ ] Commit your notebook to your fork of the GitHub repo.\n",
        "- [ ] Read [Maximizing Scarce Maintenance Resources with Data: Applying predictive modeling, precision at k, and clustering to optimize impact](https://towardsdatascience.com/maximizing-scarce-maintenance-resources-with-data-8f3491133050), by Lambda DS3 student Michael Brady. His blog post extends the Tanzania Waterpumps scenario, far beyond what's in the lecture notebook.\n",
        "\n",
        "\n",
        "## Stretch Goals\n",
        "\n",
        "### Reading\n",
        "- [Attacking discrimination with smarter machine learning](https://research.google.com/bigpicture/attacking-discrimination-in-ml/), by Google Research, with  interactive visualizations. _\"A threshold classifier essentially makes a yes/no decision, putting things in one category or another. We look at how these classifiers work, ways they can potentially be unfair, and how you might turn an unfair classifier into a fairer one. As an illustrative example, we focus on loan granting scenarios where a bank may grant or deny a loan based on a single, automatically computed number such as a credit score.\"_\n",
        "- [Notebook about how to calculate expected value from a confusion matrix by treating it as a cost-benefit matrix](https://github.com/podopie/DAT18NYC/blob/master/classes/13-expected_value_cost_benefit_analysis.ipynb)\n",
        "- [Simple guide to confusion matrix terminology](https://www.dataschool.io/simple-guide-to-confusion-matrix-terminology/) by Kevin Markham, with video\n",
        "- [Visualizing Machine Learning Thresholds to Make Better Business Decisions](https://blog.insightdatascience.com/visualizing-machine-learning-thresholds-to-make-better-business-decisions-4ab07f823415)\n",
        "\n",
        "\n",
        "### Doing\n",
        "- [ ] Share visualizations in our Slack channel!\n",
        "- [ ] RandomizedSearchCV / GridSearchCV, for model selection. (See module 3 assignment notebook)\n",
        "- [ ] More Categorical Encoding. (See module 2 assignment notebook)\n",
        "- [ ] Stacking Ensemble. (See below)\n",
        "\n",
        "### Stacking Ensemble\n",
        "\n",
        "Here's some code you can use to \"stack\" multiple submissions, which is another form of ensembling:\n",
        "\n",
        "```python\n",
        "import pandas as pd\n",
        "\n",
        "# Filenames of your submissions you want to ensemble\n",
        "files = ['submission-01.csv', 'submission-02.csv', 'submission-03.csv']\n",
        "\n",
        "target = 'status_group'\n",
        "submissions = (pd.read_csv(file)[[target]] for file in files)\n",
        "ensemble = pd.concat(submissions, axis='columns')\n",
        "majority_vote = ensemble.mode(axis='columns')[0]\n",
        "\n",
        "sample_submission = pd.read_csv('sample_submission.csv')\n",
        "submission = sample_submission.copy()\n",
        "submission[target] = majority_vote\n",
        "submission.to_csv('my-ultimate-ensemble-submission.csv', index=False)\n",
        "```"
      ]
    },
    {
      "cell_type": "code",
      "metadata": {
        "colab_type": "code",
        "id": "lsbRiKBoB5RE",
        "colab": {}
      },
      "source": [
        "%%capture\n",
        "import sys\n",
        "\n",
        "# If you're on Colab:\n",
        "if 'google.colab' in sys.modules:\n",
        "    DATA_PATH = 'https://raw.githubusercontent.com/LambdaSchool/DS-Unit-2-Kaggle-Challenge/master/data/'\n",
        "    !pip install category_encoders==2.*\n",
        "\n",
        "# If you're working locally:\n",
        "else:\n",
        "    DATA_PATH = '../data/'"
      ],
      "execution_count": 0,
      "outputs": []
    },
    {
      "cell_type": "code",
      "metadata": {
        "colab_type": "code",
        "id": "BVA1lph8CcNX",
        "colab": {}
      },
      "source": [
        "import pandas as pd\n",
        "\n",
        "# Merge train_features.csv & train_labels.csv\n",
        "train = pd.merge(pd.read_csv(DATA_PATH+'waterpumps/train_features.csv'), \n",
        "                 pd.read_csv(DATA_PATH+'waterpumps/train_labels.csv'))\n",
        "\n",
        "# Read test_features.csv & sample_submission.csv\n",
        "test = pd.read_csv(DATA_PATH+'waterpumps/test_features.csv')\n",
        "sample_submission = pd.read_csv(DATA_PATH+'waterpumps/sample_submission.csv')"
      ],
      "execution_count": 0,
      "outputs": []
    },
    {
      "cell_type": "code",
      "metadata": {
        "id": "KMLJ96U0bOhM",
        "colab_type": "code",
        "colab": {}
      },
      "source": [
        "%matplotlib inline\n",
        "import category_encoders as ce\n",
        "import matplotlib.pyplot as plt\n",
        "import numpy as np\n",
        "import pandas as pd\n",
        "import seaborn as sns\n",
        "from sklearn.impute import SimpleImputer\n",
        "from sklearn.metrics import accuracy_score\n",
        "from sklearn.model_selection import train_test_split\n",
        "from sklearn.pipeline import make_pipeline\n",
        "from sklearn.ensemble import RandomForestClassifier"
      ],
      "execution_count": 0,
      "outputs": []
    },
    {
      "cell_type": "code",
      "metadata": {
        "id": "1sR1kgmDcOWa",
        "colab_type": "code",
        "outputId": "ccc1e7de-1d47-4d26-d460-9388dabaf734",
        "colab": {
          "base_uri": "https://localhost:8080/",
          "height": 50
        }
      },
      "source": [
        "def wrangle(X):\n",
        "    \"\"\"Wrangles train, validate, and test sets in the same way\"\"\"\n",
        "    X = X.copy()\n",
        "\n",
        "    # Convert date_recorded to datetime\n",
        "    X['date_recorded'] = pd.to_datetime(X['date_recorded'], infer_datetime_format=True)\n",
        "    \n",
        "    # Extract components from date_recorded, then drop the original column\n",
        "    X['year_recorded'] = X['date_recorded'].dt.year\n",
        "    X['month_recorded'] = X['date_recorded'].dt.month\n",
        "    X['day_recorded'] = X['date_recorded'].dt.day\n",
        "    X = X.drop(columns='date_recorded')\n",
        "    \n",
        "    # Engineer feature: how many years from construction_year to date_recorded\n",
        "    X['years'] = X['year_recorded'] - X['construction_year']    \n",
        "    \n",
        "    # Drop recorded_by (never varies) and id (always varies, random)\n",
        "    unusable_variance = ['recorded_by', 'id']\n",
        "    X = X.drop(columns=unusable_variance)\n",
        "    \n",
        "    # Drop duplicate columns\n",
        "    duplicate_columns = ['quantity_group','num_private']\n",
        "    X = X.drop(columns=duplicate_columns)\n",
        "    \n",
        "    # About 3% of the time, latitude has small values near zero,\n",
        "    # outside Tanzania, so we'll treat these like null values\n",
        "    X['latitude'] = X['latitude'].replace(-2e-08, np.nan)\n",
        "    \n",
        "    # When columns have zeros and shouldn't, they are like null values\n",
        "    cols_with_zeros = ['construction_year', 'longitude', \n",
        "                       'latitude', 'gps_height', 'population','amount_tsh']\n",
        "    for col in cols_with_zeros:\n",
        "        X[col] = X[col].replace(0, np.nan)\n",
        "        \n",
        "    return X\n",
        "\n",
        "\n",
        "# Merge train_features.csv & train_labels.csv\n",
        "train = pd.merge(pd.read_csv(DATA_PATH+'waterpumps/train_features.csv'), \n",
        "                 pd.read_csv(DATA_PATH+'waterpumps/train_labels.csv'))\n",
        "\n",
        "# Read test_features.csv & sample_submission.csv\n",
        "test = pd.read_csv(DATA_PATH+'waterpumps/test_features.csv')\n",
        "sample_submission = pd.read_csv(DATA_PATH+'waterpumps/sample_submission.csv')\n",
        "\n",
        "# Split train into train & val. Make val the same size as test.\n",
        "target = 'status_group'\n",
        "train, val = train_test_split(train, test_size=len(test),  \n",
        "                              stratify=train[target], random_state=42)\n",
        "\n",
        "# Wrangle train, validate, and test sets in the same way\n",
        "train = wrangle(train)\n",
        "val = wrangle(val)\n",
        "test = wrangle(test)\n",
        "\n",
        "# Arrange data into X features matrix and y target vector\n",
        "X_train = train.drop(columns=target)\n",
        "y_train = train[target]\n",
        "X_val = val.drop(columns=target)\n",
        "y_val = val[target]\n",
        "X_test = test\n",
        "\n",
        "# Make pipeline!\n",
        "pipeline = make_pipeline(\n",
        "    ce.OrdinalEncoder(), \n",
        "    SimpleImputer(strategy='mean'), \n",
        "     RandomForestClassifier(n_estimators=100,max_depth=25, random_state=0)\n",
        "    #RandomForestClassifier(n_estimators=100, random_state=0, n_jobs=-1)\n",
        "\n",
        ")\n",
        "\n",
        "# Fit on train, score on val\n",
        "pipeline.fit(X_train, y_train)\n",
        "y_pred = pipeline.predict(X_val)\n",
        "print('Our Train Accuracy is:', pipeline.score(X_train, y_train))\n",
        "print('Our Validation Accuracy is', accuracy_score(y_val, y_pred))"
      ],
      "execution_count": 58,
      "outputs": [
        {
          "output_type": "stream",
          "text": [
            "Our Train Accuracy is: 0.9916300341903113\n",
            "Our Validation Accuracy is 0.8111157542833264\n"
          ],
          "name": "stdout"
        }
      ]
    },
    {
      "cell_type": "markdown",
      "metadata": {
        "id": "L0WIVpcSe0Dc",
        "colab_type": "text"
      },
      "source": [
        "### Scikit-learn's confusion matrix function"
      ]
    },
    {
      "cell_type": "code",
      "metadata": {
        "id": "1vD231h-e9Av",
        "colab_type": "code",
        "outputId": "8332f68a-4aad-4db9-f665-563d1971a880",
        "colab": {
          "base_uri": "https://localhost:8080/",
          "height": 34
        }
      },
      "source": [
        "import sklearn\n",
        "sklearn.__version__"
      ],
      "execution_count": 59,
      "outputs": [
        {
          "output_type": "execute_result",
          "data": {
            "text/plain": [
              "'0.21.3'"
            ]
          },
          "metadata": {
            "tags": []
          },
          "execution_count": 59
        }
      ]
    },
    {
      "cell_type": "code",
      "metadata": {
        "id": "m0nLFHZbfHfH",
        "colab_type": "code",
        "outputId": "acd6390d-2447-4ad8-a8c8-32a59366bb38",
        "colab": {
          "base_uri": "https://localhost:8080/",
          "height": 67
        }
      },
      "source": [
        "from sklearn.metrics import confusion_matrix\n",
        "confusion_matrix(y_val, y_pred)"
      ],
      "execution_count": 60,
      "outputs": [
        {
          "output_type": "execute_result",
          "data": {
            "text/plain": [
              "array([[7023,  150,  625],\n",
              "       [ 563,  320,  160],\n",
              "       [1161,   53, 4303]])"
            ]
          },
          "metadata": {
            "tags": []
          },
          "execution_count": 60
        }
      ]
    },
    {
      "cell_type": "code",
      "metadata": {
        "id": "KGPFCrE7fM9l",
        "colab_type": "code",
        "outputId": "3341cf81-60eb-40f2-cc53-2b8750d03c75",
        "colab": {
          "base_uri": "https://localhost:8080/",
          "height": 50
        }
      },
      "source": [
        "# Lets get our labels:\n",
        "from sklearn.utils.multiclass import unique_labels\n",
        "unique_labels(y_val)"
      ],
      "execution_count": 61,
      "outputs": [
        {
          "output_type": "execute_result",
          "data": {
            "text/plain": [
              "array(['functional', 'functional needs repair', 'non functional'],\n",
              "      dtype='<U23')"
            ]
          },
          "metadata": {
            "tags": []
          },
          "execution_count": 61
        }
      ]
    },
    {
      "cell_type": "code",
      "metadata": {
        "id": "d9lYQy8UfYFH",
        "colab_type": "code",
        "outputId": "528b3406-49ed-42d7-a826-16bd858566c8",
        "colab": {
          "base_uri": "https://localhost:8080/",
          "height": 118
        }
      },
      "source": [
        "# 1. Check that our labels are correct\n",
        "def plot_confusion_matrix(y_true, y_pred):\n",
        "  labels = unique_labels(y_true)\n",
        "  columns = [f'Predicted {label}'for label in labels]\n",
        "  index = [f'Actual {label}' for label in labels]\n",
        "  return columns, index\n",
        "\n",
        "plot_confusion_matrix(y_val, y_pred)\n"
      ],
      "execution_count": 62,
      "outputs": [
        {
          "output_type": "execute_result",
          "data": {
            "text/plain": [
              "(['Predicted functional',\n",
              "  'Predicted functional needs repair',\n",
              "  'Predicted non functional'],\n",
              " ['Actual functional',\n",
              "  'Actual functional needs repair',\n",
              "  'Actual non functional'])"
            ]
          },
          "metadata": {
            "tags": []
          },
          "execution_count": 62
        }
      ]
    },
    {
      "cell_type": "code",
      "metadata": {
        "id": "KQY6QhClgxWD",
        "colab_type": "code",
        "outputId": "3e8f89e1-734f-45e3-e7b5-a5f861023093",
        "colab": {
          "base_uri": "https://localhost:8080/",
          "height": 170
        }
      },
      "source": [
        "# 2. Make it a pandas dateframe\n",
        "def plot_confusion_matrix(y_true, y_pred):\n",
        "  labels = unique_labels(y_true)\n",
        "  columns = [f'Predicted {label}' for label in labels]\n",
        "  index = [f'Actural {label}' for label in labels]\n",
        "  table = pd.DataFrame(confusion_matrix(y_true, y_pred),\n",
        "                       columns=columns, index=index)\n",
        "  \n",
        "  return table\n",
        "\n",
        "plot_confusion_matrix(y_val, y_pred)"
      ],
      "execution_count": 63,
      "outputs": [
        {
          "output_type": "execute_result",
          "data": {
            "text/html": [
              "<div>\n",
              "<style scoped>\n",
              "    .dataframe tbody tr th:only-of-type {\n",
              "        vertical-align: middle;\n",
              "    }\n",
              "\n",
              "    .dataframe tbody tr th {\n",
              "        vertical-align: top;\n",
              "    }\n",
              "\n",
              "    .dataframe thead th {\n",
              "        text-align: right;\n",
              "    }\n",
              "</style>\n",
              "<table border=\"1\" class=\"dataframe\">\n",
              "  <thead>\n",
              "    <tr style=\"text-align: right;\">\n",
              "      <th></th>\n",
              "      <th>Predicted functional</th>\n",
              "      <th>Predicted functional needs repair</th>\n",
              "      <th>Predicted non functional</th>\n",
              "    </tr>\n",
              "  </thead>\n",
              "  <tbody>\n",
              "    <tr>\n",
              "      <th>Actural functional</th>\n",
              "      <td>7023</td>\n",
              "      <td>150</td>\n",
              "      <td>625</td>\n",
              "    </tr>\n",
              "    <tr>\n",
              "      <th>Actural functional needs repair</th>\n",
              "      <td>563</td>\n",
              "      <td>320</td>\n",
              "      <td>160</td>\n",
              "    </tr>\n",
              "    <tr>\n",
              "      <th>Actural non functional</th>\n",
              "      <td>1161</td>\n",
              "      <td>53</td>\n",
              "      <td>4303</td>\n",
              "    </tr>\n",
              "  </tbody>\n",
              "</table>\n",
              "</div>"
            ],
            "text/plain": [
              "                                 Predicted functional  ...  Predicted non functional\n",
              "Actural functional                               7023  ...                       625\n",
              "Actural functional needs repair                   563  ...                       160\n",
              "Actural non functional                           1161  ...                      4303\n",
              "\n",
              "[3 rows x 3 columns]"
            ]
          },
          "metadata": {
            "tags": []
          },
          "execution_count": 63
        }
      ]
    },
    {
      "cell_type": "code",
      "metadata": {
        "id": "XybNi5mkhfWW",
        "colab_type": "code",
        "outputId": "00fdc779-d332-47e7-fdde-c35af8573c06",
        "colab": {
          "base_uri": "https://localhost:8080/",
          "height": 422
        }
      },
      "source": [
        "# 3. Plot a heatmap\n",
        "import seaborn as sns\n",
        "def plot_confusion_matrix(y_true, y_pred):\n",
        "    labels = unique_labels(y_true)\n",
        "    columns = [f'Predicted {label}' for label in labels]\n",
        "    index = [f'Actual {label}' for label in labels]\n",
        "    table = pd.DataFrame(confusion_matrix(y_true, y_pred), \n",
        "                         columns=columns, index=index)\n",
        "    return sns.heatmap(table, annot=True, fmt='d', cmap='BuPu')\n",
        "\n",
        "plot_confusion_matrix(y_val, y_pred)\n",
        "plt.show()"
      ],
      "execution_count": 64,
      "outputs": [
        {
          "output_type": "display_data",
          "data": {
            "image/png": "[encoded data removed]",
            "text/plain": [
              "<Figure size 432x288 with 2 Axes>"
            ]
          },
          "metadata": {
            "tags": []
          }
        }
      ]
    },
    {
      "cell_type": "code",
      "metadata": {
        "id": "Zi1eSBJC8y3t",
        "colab_type": "code",
        "outputId": "90fd0705-acdb-444c-8cfe-22e9810ff6ab",
        "colab": {
          "base_uri": "https://localhost:8080/",
          "height": 101
        }
      },
      "source": [
        "# Note to self: Correct predictions is calculated Diagonally across. \n",
        "correct_predictions = 7023 + 320 + 4303\n",
        "print ('The Correct Predcition is:', (correct_predictions))\n",
        "\n",
        "# Note to self: entire heatmap total:\n",
        "total_predictions = 7023 + 150 + 625 + 563 + 320 + 160 + 1161 + 53 + 4303,\n",
        "print('The Total Predctions is:', (total_predictions))\n",
        "\n",
        "# Classifcation Accuracy:\n",
        "correct_predictions = 11646\n",
        "total_predictions = 14358\n",
        "print('The Classification Accuracy is:',correct_predictions / total_predictions)\n",
        "\n",
        "# Accuracy_score:\n",
        "print('The Accuracy Score is:',accuracy_score(y_val, y_pred))\n",
        "\n",
        "#Sum\n",
        "print ('The Sum is:', sum(y_pred == y_val) / len(y_pred))"
      ],
      "execution_count": 65,
      "outputs": [
        {
          "output_type": "stream",
          "text": [
            "The Correct Predcition is: 11646\n",
            "The Total Predctions is: (14358,)\n",
            "The Classification Accuracy is: 0.8111157542833264\n",
            "The Accuracy Score is: 0.8111157542833264\n",
            "The Sum is: 0.8111157542833264\n"
          ],
          "name": "stdout"
        }
      ]
    },
    {
      "cell_type": "markdown",
      "metadata": {
        "id": "ncpy91ZR9lgW",
        "colab_type": "text"
      },
      "source": [
        "Classification metrics: precision, recall"
      ]
    },
    {
      "cell_type": "code",
      "metadata": {
        "id": "AI1UK1-p9BmO",
        "colab_type": "code",
        "outputId": "2ec5fc71-5477-4a24-9040-32fe738f6775",
        "colab": {
          "base_uri": "https://localhost:8080/",
          "height": 185
        }
      },
      "source": [
        "from sklearn.metrics import classification_report\n",
        "print(classification_report(y_val, y_pred))"
      ],
      "execution_count": 66,
      "outputs": [
        {
          "output_type": "stream",
          "text": [
            "                         precision    recall  f1-score   support\n",
            "\n",
            "             functional       0.80      0.90      0.85      7798\n",
            "functional needs repair       0.61      0.31      0.41      1043\n",
            "         non functional       0.85      0.78      0.81      5517\n",
            "\n",
            "               accuracy                           0.81     14358\n",
            "              macro avg       0.75      0.66      0.69     14358\n",
            "           weighted avg       0.81      0.81      0.80     14358\n",
            "\n"
          ],
          "name": "stdout"
        }
      ]
    },
    {
      "cell_type": "markdown",
      "metadata": {
        "id": "f-RU6amH9x8O",
        "colab_type": "text"
      },
      "source": [
        "Confusion Matrix Plot"
      ]
    },
    {
      "cell_type": "code",
      "metadata": {
        "id": "dZlkedTt9vsv",
        "colab_type": "code",
        "outputId": "0e4367cd-811f-4144-f940-1236486a7b0c",
        "colab": {
          "base_uri": "https://localhost:8080/",
          "height": 422
        }
      },
      "source": [
        "plot_confusion_matrix(y_val, y_pred)\n",
        "plt.show()"
      ],
      "execution_count": 67,
      "outputs": [
        {
          "output_type": "display_data",
          "data": {
            "image/png": "[encoded data removed]",
            "text/plain": [
              "<Figure size 432x288 with 2 Axes>"
            ]
          },
          "metadata": {
            "tags": []
          }
        }
      ]
    },
    {
      "cell_type": "code",
      "metadata": {
        "id": "ofi9JNAPCuL0",
        "colab_type": "code",
        "outputId": "f9ab4e0d-265b-4391-b055-8438f2a2e00a",
        "colab": {
          "base_uri": "https://localhost:8080/",
          "height": 67
        }
      },
      "source": [
        "# Find the Correct Predictions \"Non functional\"\n",
        "correct_predictions_nonfunctional = 4303\n",
        "print('The Correct Predictions Non-functional is:', correct_predictions_nonfunctional) \n",
        "\n",
        "# Find the total prediction of \"Non functional\"\n",
        "total_predictions_nonfunctional = 4303 + 160 + 625\n",
        "print('The Total Predictions Non-functional is:', total_predictions_nonfunctional)\n",
        "\n",
        "# The Precision for \"Non functional\":\n",
        "correct_predictions_nonfunctional = 4303\n",
        "total_predictions_nonfunctional = 4303 + 160 + 625\n",
        "print('The Precision for Non functional:', correct_predictions_nonfunctional / total_predictions_nonfunctional)"
      ],
      "execution_count": 68,
      "outputs": [
        {
          "output_type": "stream",
          "text": [
            "The Correct Predictions Non-functional is: 4303\n",
            "The Total Predictions Non-functional is: 5088\n",
            "The Precision for Non functional: 0.8457154088050315\n"
          ],
          "name": "stdout"
        }
      ]
    },
    {
      "cell_type": "code",
      "metadata": {
        "id": "VIPh02KJEUxh",
        "colab_type": "code",
        "outputId": "8a76ec85-74fe-43fd-f0de-63d8d8dbdb60",
        "colab": {
          "base_uri": "https://localhost:8080/",
          "height": 185
        }
      },
      "source": [
        "print(classification_report(y_val, y_pred))"
      ],
      "execution_count": 69,
      "outputs": [
        {
          "output_type": "stream",
          "text": [
            "                         precision    recall  f1-score   support\n",
            "\n",
            "             functional       0.80      0.90      0.85      7798\n",
            "functional needs repair       0.61      0.31      0.41      1043\n",
            "         non functional       0.85      0.78      0.81      5517\n",
            "\n",
            "               accuracy                           0.81     14358\n",
            "              macro avg       0.75      0.66      0.69     14358\n",
            "           weighted avg       0.81      0.81      0.80     14358\n",
            "\n"
          ],
          "name": "stdout"
        }
      ]
    },
    {
      "cell_type": "code",
      "metadata": {
        "id": "Yy14Us4GEcuD",
        "colab_type": "code",
        "outputId": "2992a7a8-e213-41be-8a43-f5a143080618",
        "colab": {
          "base_uri": "https://localhost:8080/",
          "height": 50
        }
      },
      "source": [
        "# Actual \"Non functional\" waterpumps:\n",
        "actual_nonfunctional = 1161 + 53 + 4303\n",
        "print ('The Actual Non-functional waterpumps are:', actual_nonfunctional)\n",
        "\n",
        "# The recall for \"Non functional\"\n",
        "print ('The recall for Non-functional:', correct_predictions_nonfunctional / actual_nonfunctional)"
      ],
      "execution_count": 70,
      "outputs": [
        {
          "output_type": "stream",
          "text": [
            "The Actual Non-functional waterpumps are: 5517\n",
            "The recall for Non-functional: 0.779952872938191\n"
          ],
          "name": "stdout"
        }
      ]
    },
    {
      "cell_type": "code",
      "metadata": {
        "id": "ijblM4PBR4eK",
        "colab_type": "code",
        "colab": {
          "base_uri": "https://localhost:8080/",
          "height": 34
        },
        "outputId": "7c07d63f-ab93-42fb-9c95-9ac68f99db0d"
      },
      "source": [
        "len(test)"
      ],
      "execution_count": 71,
      "outputs": [
        {
          "output_type": "execute_result",
          "data": {
            "text/plain": [
              "14358"
            ]
          },
          "metadata": {
            "tags": []
          },
          "execution_count": 71
        }
      ]
    },
    {
      "cell_type": "code",
      "metadata": {
        "id": "Dn1oJbuApuK1",
        "colab_type": "code",
        "colab": {
          "base_uri": "https://localhost:8080/",
          "height": 34
        },
        "outputId": "a92cfdad-e4dd-4880-8d06-8ac237704a15"
      },
      "source": [
        "len(train)+ len(val)"
      ],
      "execution_count": 72,
      "outputs": [
        {
          "output_type": "execute_result",
          "data": {
            "text/plain": [
              "59400"
            ]
          },
          "metadata": {
            "tags": []
          },
          "execution_count": 72
        }
      ]
    },
    {
      "cell_type": "code",
      "metadata": {
        "id": "VXsrgsiIpxwU",
        "colab_type": "code",
        "colab": {
          "base_uri": "https://localhost:8080/",
          "height": 84
        },
        "outputId": "3914f2d5-b4f5-4150-f3f7-789232e7e7e0"
      },
      "source": [
        "y_train.value_counts(normalize=True)"
      ],
      "execution_count": 73,
      "outputs": [
        {
          "output_type": "execute_result",
          "data": {
            "text/plain": [
              "functional                 0.543071\n",
              "non functional             0.384241\n",
              "functional needs repair    0.072688\n",
              "Name: status_group, dtype: float64"
            ]
          },
          "metadata": {
            "tags": []
          },
          "execution_count": 73
        }
      ]
    },
    {
      "cell_type": "code",
      "metadata": {
        "id": "nssJd2AbqD5h",
        "colab_type": "code",
        "colab": {
          "base_uri": "https://localhost:8080/",
          "height": 34
        },
        "outputId": "e9ec0c07-16bb-462e-d355-945cad1bc6da"
      },
      "source": [
        "2000 * 0.46"
      ],
      "execution_count": 74,
      "outputs": [
        {
          "output_type": "execute_result",
          "data": {
            "text/plain": [
              "920.0"
            ]
          },
          "metadata": {
            "tags": []
          },
          "execution_count": 74
        }
      ]
    },
    {
      "cell_type": "code",
      "metadata": {
        "id": "AdAzJ4BRqQdZ",
        "colab_type": "code",
        "colab": {
          "base_uri": "https://localhost:8080/",
          "height": 67
        },
        "outputId": "489ffe55-b583-4ea3-c575-75f5494cb480"
      },
      "source": [
        "# Lets identify which waterpumps are non-functional \n",
        "#or are functional but need repari:\n",
        "y_train = y_train != 'functional'\n",
        "y_val = y_val != 'functional'\n",
        "y_train.value_counts(normalize=True)"
      ],
      "execution_count": 75,
      "outputs": [
        {
          "output_type": "execute_result",
          "data": {
            "text/plain": [
              "False    0.543071\n",
              "True     0.456929\n",
              "Name: status_group, dtype: float64"
            ]
          },
          "metadata": {
            "tags": []
          },
          "execution_count": 75
        }
      ]
    },
    {
      "cell_type": "code",
      "metadata": {
        "id": "VlLR98UYqcrO",
        "colab_type": "code",
        "colab": {
          "base_uri": "https://localhost:8080/",
          "height": 34
        },
        "outputId": "d6b9bb5d-dd8f-4126-b000-91f0951f7aca"
      },
      "source": [
        "# We are setting the same size as our test set.\n",
        "len(val) == len(test)"
      ],
      "execution_count": 76,
      "outputs": [
        {
          "output_type": "execute_result",
          "data": {
            "text/plain": [
              "True"
            ]
          },
          "metadata": {
            "tags": []
          },
          "execution_count": 76
        }
      ]
    },
    {
      "cell_type": "code",
      "metadata": {
        "id": "9odQLdB_qhWB",
        "colab_type": "code",
        "colab": {}
      },
      "source": [
        "pipeline.fit(X_train, y_train)\n",
        "y_pred = pipeline.predict(X_val)"
      ],
      "execution_count": 0,
      "outputs": []
    },
    {
      "cell_type": "code",
      "metadata": {
        "id": "mE_gAvj-rTSP",
        "colab_type": "code",
        "colab": {
          "base_uri": "https://localhost:8080/",
          "height": 265
        },
        "outputId": "c66b8028-ed17-4936-ff4c-57e3b870a849"
      },
      "source": [
        "plot_confusion_matrix(y_val, y_pred);"
      ],
      "execution_count": 78,
      "outputs": [
        {
          "output_type": "display_data",
          "data": {
            "image/png": "[encoded data removed]",
            "text/plain": [
              "<Figure size 432x288 with 2 Axes>"
            ]
          },
          "metadata": {
            "tags": []
          }
        }
      ]
    },
    {
      "cell_type": "code",
      "metadata": {
        "id": "HLH7ksCusI3r",
        "colab_type": "code",
        "colab": {}
      },
      "source": [
        "# How many total predictions of \"True\"(\"non functional\" or \"functional needs repair\")"
      ],
      "execution_count": 0,
      "outputs": []
    },
    {
      "cell_type": "code",
      "metadata": {
        "id": "RHd7AGM4sVwK",
        "colab_type": "code",
        "colab": {
          "base_uri": "https://localhost:8080/",
          "height": 34
        },
        "outputId": "4e062470-8911-44f7-8ba3-6261b14163c1"
      },
      "source": [
        "5043 + 977"
      ],
      "execution_count": 79,
      "outputs": [
        {
          "output_type": "execute_result",
          "data": {
            "text/plain": [
              "6020"
            ]
          },
          "metadata": {
            "tags": []
          },
          "execution_count": 79
        }
      ]
    },
    {
      "cell_type": "code",
      "metadata": {
        "id": "mi36R74cscLh",
        "colab_type": "code",
        "colab": {
          "base_uri": "https://localhost:8080/",
          "height": 34
        },
        "outputId": "9432d9c3-8646-4625-e56a-e56f90c9acf9"
      },
      "source": [
        "# Discrete predictions:\n",
        "pipeline.predict(X_val)"
      ],
      "execution_count": 80,
      "outputs": [
        {
          "output_type": "execute_result",
          "data": {
            "text/plain": [
              "array([ True,  True, False, ..., False,  True, False])"
            ]
          },
          "metadata": {
            "tags": []
          },
          "execution_count": 80
        }
      ]
    },
    {
      "cell_type": "code",
      "metadata": {
        "id": "G61Mo-mUsj6i",
        "colab_type": "code",
        "colab": {
          "base_uri": "https://localhost:8080/",
          "height": 134
        },
        "outputId": "0e44d2c7-2194-45f5-d5f8-ee5cccdc0cad"
      },
      "source": [
        "# Predicted probabilities:\n",
        "pipeline.predict_proba(X_val)"
      ],
      "execution_count": 81,
      "outputs": [
        {
          "output_type": "execute_result",
          "data": {
            "text/plain": [
              "array([[0.01      , 0.99      ],\n",
              "       [0.26556043, 0.73443957],\n",
              "       [0.94      , 0.06      ],\n",
              "       ...,\n",
              "       [0.81585768, 0.18414232],\n",
              "       [0.47906794, 0.52093206],\n",
              "       [1.        , 0.        ]])"
            ]
          },
          "metadata": {
            "tags": []
          },
          "execution_count": 81
        }
      ]
    },
    {
      "cell_type": "code",
      "metadata": {
        "id": "6Y9kY57HsrcS",
        "colab_type": "code",
        "colab": {
          "base_uri": "https://localhost:8080/",
          "height": 50
        },
        "outputId": "021d4b27-fc2e-4ae4-8c73-cd24c540df72"
      },
      "source": [
        "# Predicted probabilities:\n",
        "pipeline.predict_proba(X_val)[:, 1]"
      ],
      "execution_count": 82,
      "outputs": [
        {
          "output_type": "execute_result",
          "data": {
            "text/plain": [
              "array([0.99      , 0.73443957, 0.06      , ..., 0.18414232, 0.52093206,\n",
              "       0.        ])"
            ]
          },
          "metadata": {
            "tags": []
          },
          "execution_count": 82
        }
      ]
    },
    {
      "cell_type": "code",
      "metadata": {
        "id": "6MJVJ3AFs0Nv",
        "colab_type": "code",
        "colab": {
          "base_uri": "https://localhost:8080/",
          "height": 34
        },
        "outputId": "6739aa63-d2d4-4c39-c87c-190aa2d805c2"
      },
      "source": [
        "# Make predicted probabilities into discrete predictions,\n",
        "# using a \"threshold\"\n",
        "pipeline.predict_proba(X_val)[:, 1] > 0.5"
      ],
      "execution_count": 83,
      "outputs": [
        {
          "output_type": "execute_result",
          "data": {
            "text/plain": [
              "array([ True,  True, False, ..., False,  True, False])"
            ]
          },
          "metadata": {
            "tags": []
          },
          "execution_count": 83
        }
      ]
    },
    {
      "cell_type": "code",
      "metadata": {
        "id": "I4dHXi4PtEqB",
        "colab_type": "code",
        "colab": {
          "base_uri": "https://localhost:8080/",
          "height": 265
        },
        "outputId": "52257023-6405-41d9-da65-94e926e3b9e8"
      },
      "source": [
        "y_pred_proba = pipeline.predict_proba(X_val)[:, 1]\n",
        "sns.distplot(y_pred_proba)\n",
        "plt.show()"
      ],
      "execution_count": 84,
      "outputs": [
        {
          "output_type": "display_data",
          "data": {
            "image/png": "[encoded data removed]",
            "text/plain": [
              "<Figure size 432x288 with 1 Axes>"
            ]
          },
          "metadata": {
            "tags": []
          }
        }
      ]
    },
    {
      "cell_type": "code",
      "metadata": {
        "id": "0sw6EdNTtRxp",
        "colab_type": "code",
        "colab": {
          "base_uri": "https://localhost:8080/",
          "height": 265
        },
        "outputId": "1fcd38e7-2de5-427b-b339-03a7cf6cf4a0"
      },
      "source": [
        "threshold = 0.92\n",
        "\n",
        "y_pred_proba = pipeline.predict_proba(X_val)[:, 1]\n",
        "y_pred = y_pred_proba > threshold\n",
        "\n",
        "ax = sns.distplot(y_pred_proba)\n",
        "ax.axvline(threshold, color='red')\n",
        "\n",
        "pd.Series(y_pred).value_counts\n",
        "plt.show()"
      ],
      "execution_count": 88,
      "outputs": [
        {
          "output_type": "display_data",
          "data": {
            "image/png": "[encoded data removed]",
            "text/plain": [
              "<Figure size 432x288 with 1 Axes>"
            ]
          },
          "metadata": {
            "tags": []
          }
        }
      ]
    },
    {
      "cell_type": "code",
      "metadata": {
        "id": "jxcT6QVit5tX",
        "colab_type": "code",
        "colab": {
          "base_uri": "https://localhost:8080/",
          "height": 696,
          "referenced_widgets": [
            "858025390e7741f6a025a98c49792267",
            "b0c9ec80e4624884bd85c8210b5ef252",
            "57acee3947f44151990f62e140ea6985",
            "06fa6a5902994b1ca58e68d2d10fdf4f",
            "39add58a3988433da096e6492dc7996a",
            "606f66c85c074160bc437169bdd2221a"
          ]
        },
        "outputId": "d9321a2f-6a67-445b-841c-e67283f1b200"
      },
      "source": [
        "from ipywidgets import interact, fixed\n",
        "\n",
        "def set_threshold(y_true, y_pred_proba, threshold=0.5):\n",
        "    y_pred = y_pred_proba > threshold\n",
        "    ax = sns.distplot(y_pred_proba)\n",
        "    ax.axvline(threshold, color='red')\n",
        "    plt.show()\n",
        "    print(classification_report(y_true, y_pred))\n",
        "    plot_confusion_matrix(y_true, y_pred)\n",
        "\n",
        "interact(set_threshold, \n",
        "         y_true=fixed(y_val), \n",
        "         y_pred_proba=fixed(y_pred_proba), \n",
        "         threshold=(0, 1, 0.02));"
      ],
      "execution_count": 89,
      "outputs": [
        {
          "output_type": "display_data",
          "data": {
            "application/vnd.jupyter.widget-view+json": {
              "model_id": "858025390e7741f6a025a98c49792267",
              "version_minor": 0,
              "version_major": 2
            },
            "text/plain": [
              "interactive(children=(FloatSlider(value=0.5, description='threshold', max=1.0, step=0.02), Output()), _dom_cla…"
            ]
          },
          "metadata": {
            "tags": []
          }
        }
      ]
    },
    {
      "cell_type": "code",
      "metadata": {
        "id": "YWywYjYlt_QM",
        "colab_type": "code",
        "colab": {
          "base_uri": "https://localhost:8080/",
          "height": 402
        },
        "outputId": "aca17f1c-1c5a-42c7-e551-b6f5d57dfb35"
      },
      "source": [
        "results = pd.DataFrame({'y_val': y_val, 'y_pred_proba': y_pred_proba})\n",
        "results"
      ],
      "execution_count": 90,
      "outputs": [
        {
          "output_type": "execute_result",
          "data": {
            "text/html": [
              "<div>\n",
              "<style scoped>\n",
              "    .dataframe tbody tr th:only-of-type {\n",
              "        vertical-align: middle;\n",
              "    }\n",
              "\n",
              "    .dataframe tbody tr th {\n",
              "        vertical-align: top;\n",
              "    }\n",
              "\n",
              "    .dataframe thead th {\n",
              "        text-align: right;\n",
              "    }\n",
              "</style>\n",
              "<table border=\"1\" class=\"dataframe\">\n",
              "  <thead>\n",
              "    <tr style=\"text-align: right;\">\n",
              "      <th></th>\n",
              "      <th>y_val</th>\n",
              "      <th>y_pred_proba</th>\n",
              "    </tr>\n",
              "  </thead>\n",
              "  <tbody>\n",
              "    <tr>\n",
              "      <th>58046</th>\n",
              "      <td>True</td>\n",
              "      <td>0.990000</td>\n",
              "    </tr>\n",
              "    <tr>\n",
              "      <th>41184</th>\n",
              "      <td>True</td>\n",
              "      <td>0.734440</td>\n",
              "    </tr>\n",
              "    <tr>\n",
              "      <th>27587</th>\n",
              "      <td>False</td>\n",
              "      <td>0.060000</td>\n",
              "    </tr>\n",
              "    <tr>\n",
              "      <th>53109</th>\n",
              "      <td>False</td>\n",
              "      <td>0.031508</td>\n",
              "    </tr>\n",
              "    <tr>\n",
              "      <th>7245</th>\n",
              "      <td>True</td>\n",
              "      <td>0.697588</td>\n",
              "    </tr>\n",
              "    <tr>\n",
              "      <th>...</th>\n",
              "      <td>...</td>\n",
              "      <td>...</td>\n",
              "    </tr>\n",
              "    <tr>\n",
              "      <th>18760</th>\n",
              "      <td>False</td>\n",
              "      <td>0.646749</td>\n",
              "    </tr>\n",
              "    <tr>\n",
              "      <th>36059</th>\n",
              "      <td>True</td>\n",
              "      <td>0.920000</td>\n",
              "    </tr>\n",
              "    <tr>\n",
              "      <th>4759</th>\n",
              "      <td>False</td>\n",
              "      <td>0.184142</td>\n",
              "    </tr>\n",
              "    <tr>\n",
              "      <th>43621</th>\n",
              "      <td>False</td>\n",
              "      <td>0.520932</td>\n",
              "    </tr>\n",
              "    <tr>\n",
              "      <th>45295</th>\n",
              "      <td>False</td>\n",
              "      <td>0.000000</td>\n",
              "    </tr>\n",
              "  </tbody>\n",
              "</table>\n",
              "<p>14358 rows × 2 columns</p>\n",
              "</div>"
            ],
            "text/plain": [
              "       y_val  y_pred_proba\n",
              "58046   True      0.990000\n",
              "41184   True      0.734440\n",
              "27587  False      0.060000\n",
              "53109  False      0.031508\n",
              "7245    True      0.697588\n",
              "...      ...           ...\n",
              "18760  False      0.646749\n",
              "36059   True      0.920000\n",
              "4759   False      0.184142\n",
              "43621  False      0.520932\n",
              "45295  False      0.000000\n",
              "\n",
              "[14358 rows x 2 columns]"
            ]
          },
          "metadata": {
            "tags": []
          },
          "execution_count": 90
        }
      ]
    },
    {
      "cell_type": "code",
      "metadata": {
        "id": "wugOn6AvuFVf",
        "colab_type": "code",
        "colab": {
          "base_uri": "https://localhost:8080/",
          "height": 1000
        },
        "outputId": "c0efde5d-39f8-47e5-c832-01fbdee09c95"
      },
      "source": [
        "top2000 = results.sort_values(by='y_pred_proba', ascending=False)[:2000]\n",
        "top2000.sample(n=50)"
      ],
      "execution_count": 92,
      "outputs": [
        {
          "output_type": "execute_result",
          "data": {
            "text/html": [
              "<div>\n",
              "<style scoped>\n",
              "    .dataframe tbody tr th:only-of-type {\n",
              "        vertical-align: middle;\n",
              "    }\n",
              "\n",
              "    .dataframe tbody tr th {\n",
              "        vertical-align: top;\n",
              "    }\n",
              "\n",
              "    .dataframe thead th {\n",
              "        text-align: right;\n",
              "    }\n",
              "</style>\n",
              "<table border=\"1\" class=\"dataframe\">\n",
              "  <thead>\n",
              "    <tr style=\"text-align: right;\">\n",
              "      <th></th>\n",
              "      <th>y_val</th>\n",
              "      <th>y_pred_proba</th>\n",
              "    </tr>\n",
              "  </thead>\n",
              "  <tbody>\n",
              "    <tr>\n",
              "      <th>8280</th>\n",
              "      <td>True</td>\n",
              "      <td>0.950000</td>\n",
              "    </tr>\n",
              "    <tr>\n",
              "      <th>54537</th>\n",
              "      <td>True</td>\n",
              "      <td>0.969083</td>\n",
              "    </tr>\n",
              "    <tr>\n",
              "      <th>38692</th>\n",
              "      <td>True</td>\n",
              "      <td>0.960000</td>\n",
              "    </tr>\n",
              "    <tr>\n",
              "      <th>22840</th>\n",
              "      <td>True</td>\n",
              "      <td>0.988458</td>\n",
              "    </tr>\n",
              "    <tr>\n",
              "      <th>18932</th>\n",
              "      <td>True</td>\n",
              "      <td>1.000000</td>\n",
              "    </tr>\n",
              "    <tr>\n",
              "      <th>2897</th>\n",
              "      <td>True</td>\n",
              "      <td>0.970000</td>\n",
              "    </tr>\n",
              "    <tr>\n",
              "      <th>52418</th>\n",
              "      <td>True</td>\n",
              "      <td>1.000000</td>\n",
              "    </tr>\n",
              "    <tr>\n",
              "      <th>55826</th>\n",
              "      <td>True</td>\n",
              "      <td>1.000000</td>\n",
              "    </tr>\n",
              "    <tr>\n",
              "      <th>19976</th>\n",
              "      <td>True</td>\n",
              "      <td>0.949906</td>\n",
              "    </tr>\n",
              "    <tr>\n",
              "      <th>5959</th>\n",
              "      <td>True</td>\n",
              "      <td>0.960049</td>\n",
              "    </tr>\n",
              "    <tr>\n",
              "      <th>39115</th>\n",
              "      <td>True</td>\n",
              "      <td>1.000000</td>\n",
              "    </tr>\n",
              "    <tr>\n",
              "      <th>28484</th>\n",
              "      <td>True</td>\n",
              "      <td>1.000000</td>\n",
              "    </tr>\n",
              "    <tr>\n",
              "      <th>54960</th>\n",
              "      <td>True</td>\n",
              "      <td>1.000000</td>\n",
              "    </tr>\n",
              "    <tr>\n",
              "      <th>6288</th>\n",
              "      <td>True</td>\n",
              "      <td>1.000000</td>\n",
              "    </tr>\n",
              "    <tr>\n",
              "      <th>1564</th>\n",
              "      <td>True</td>\n",
              "      <td>1.000000</td>\n",
              "    </tr>\n",
              "    <tr>\n",
              "      <th>21023</th>\n",
              "      <td>True</td>\n",
              "      <td>0.958400</td>\n",
              "    </tr>\n",
              "    <tr>\n",
              "      <th>59128</th>\n",
              "      <td>True</td>\n",
              "      <td>1.000000</td>\n",
              "    </tr>\n",
              "    <tr>\n",
              "      <th>59108</th>\n",
              "      <td>True</td>\n",
              "      <td>0.990000</td>\n",
              "    </tr>\n",
              "    <tr>\n",
              "      <th>36054</th>\n",
              "      <td>True</td>\n",
              "      <td>0.980000</td>\n",
              "    </tr>\n",
              "    <tr>\n",
              "      <th>17081</th>\n",
              "      <td>True</td>\n",
              "      <td>0.970000</td>\n",
              "    </tr>\n",
              "    <tr>\n",
              "      <th>39891</th>\n",
              "      <td>True</td>\n",
              "      <td>0.990000</td>\n",
              "    </tr>\n",
              "    <tr>\n",
              "      <th>50430</th>\n",
              "      <td>True</td>\n",
              "      <td>0.950000</td>\n",
              "    </tr>\n",
              "    <tr>\n",
              "      <th>51097</th>\n",
              "      <td>True</td>\n",
              "      <td>0.978588</td>\n",
              "    </tr>\n",
              "    <tr>\n",
              "      <th>24339</th>\n",
              "      <td>True</td>\n",
              "      <td>0.950000</td>\n",
              "    </tr>\n",
              "    <tr>\n",
              "      <th>21163</th>\n",
              "      <td>True</td>\n",
              "      <td>0.950000</td>\n",
              "    </tr>\n",
              "    <tr>\n",
              "      <th>38514</th>\n",
              "      <td>True</td>\n",
              "      <td>0.955047</td>\n",
              "    </tr>\n",
              "    <tr>\n",
              "      <th>52261</th>\n",
              "      <td>True</td>\n",
              "      <td>0.980000</td>\n",
              "    </tr>\n",
              "    <tr>\n",
              "      <th>5852</th>\n",
              "      <td>True</td>\n",
              "      <td>0.960000</td>\n",
              "    </tr>\n",
              "    <tr>\n",
              "      <th>28368</th>\n",
              "      <td>True</td>\n",
              "      <td>1.000000</td>\n",
              "    </tr>\n",
              "    <tr>\n",
              "      <th>38522</th>\n",
              "      <td>True</td>\n",
              "      <td>0.970000</td>\n",
              "    </tr>\n",
              "    <tr>\n",
              "      <th>49721</th>\n",
              "      <td>True</td>\n",
              "      <td>1.000000</td>\n",
              "    </tr>\n",
              "    <tr>\n",
              "      <th>21979</th>\n",
              "      <td>True</td>\n",
              "      <td>0.950000</td>\n",
              "    </tr>\n",
              "    <tr>\n",
              "      <th>43236</th>\n",
              "      <td>True</td>\n",
              "      <td>0.970000</td>\n",
              "    </tr>\n",
              "    <tr>\n",
              "      <th>38387</th>\n",
              "      <td>True</td>\n",
              "      <td>0.950000</td>\n",
              "    </tr>\n",
              "    <tr>\n",
              "      <th>32844</th>\n",
              "      <td>True</td>\n",
              "      <td>0.990000</td>\n",
              "    </tr>\n",
              "    <tr>\n",
              "      <th>6529</th>\n",
              "      <td>True</td>\n",
              "      <td>0.995912</td>\n",
              "    </tr>\n",
              "    <tr>\n",
              "      <th>12274</th>\n",
              "      <td>True</td>\n",
              "      <td>0.984643</td>\n",
              "    </tr>\n",
              "    <tr>\n",
              "      <th>40129</th>\n",
              "      <td>True</td>\n",
              "      <td>1.000000</td>\n",
              "    </tr>\n",
              "    <tr>\n",
              "      <th>8367</th>\n",
              "      <td>True</td>\n",
              "      <td>0.940000</td>\n",
              "    </tr>\n",
              "    <tr>\n",
              "      <th>37326</th>\n",
              "      <td>True</td>\n",
              "      <td>0.990000</td>\n",
              "    </tr>\n",
              "    <tr>\n",
              "      <th>8350</th>\n",
              "      <td>True</td>\n",
              "      <td>1.000000</td>\n",
              "    </tr>\n",
              "    <tr>\n",
              "      <th>50686</th>\n",
              "      <td>True</td>\n",
              "      <td>0.990000</td>\n",
              "    </tr>\n",
              "    <tr>\n",
              "      <th>2447</th>\n",
              "      <td>True</td>\n",
              "      <td>1.000000</td>\n",
              "    </tr>\n",
              "    <tr>\n",
              "      <th>3986</th>\n",
              "      <td>True</td>\n",
              "      <td>0.970000</td>\n",
              "    </tr>\n",
              "    <tr>\n",
              "      <th>28498</th>\n",
              "      <td>True</td>\n",
              "      <td>0.950286</td>\n",
              "    </tr>\n",
              "    <tr>\n",
              "      <th>52538</th>\n",
              "      <td>True</td>\n",
              "      <td>0.990000</td>\n",
              "    </tr>\n",
              "    <tr>\n",
              "      <th>33788</th>\n",
              "      <td>True</td>\n",
              "      <td>0.980000</td>\n",
              "    </tr>\n",
              "    <tr>\n",
              "      <th>19275</th>\n",
              "      <td>True</td>\n",
              "      <td>0.990000</td>\n",
              "    </tr>\n",
              "    <tr>\n",
              "      <th>29894</th>\n",
              "      <td>True</td>\n",
              "      <td>1.000000</td>\n",
              "    </tr>\n",
              "    <tr>\n",
              "      <th>2920</th>\n",
              "      <td>True</td>\n",
              "      <td>0.970618</td>\n",
              "    </tr>\n",
              "  </tbody>\n",
              "</table>\n",
              "</div>"
            ],
            "text/plain": [
              "       y_val  y_pred_proba\n",
              "8280    True      0.950000\n",
              "54537   True      0.969083\n",
              "38692   True      0.960000\n",
              "22840   True      0.988458\n",
              "18932   True      1.000000\n",
              "2897    True      0.970000\n",
              "52418   True      1.000000\n",
              "55826   True      1.000000\n",
              "19976   True      0.949906\n",
              "5959    True      0.960049\n",
              "39115   True      1.000000\n",
              "28484   True      1.000000\n",
              "54960   True      1.000000\n",
              "6288    True      1.000000\n",
              "1564    True      1.000000\n",
              "21023   True      0.958400\n",
              "59128   True      1.000000\n",
              "59108   True      0.990000\n",
              "36054   True      0.980000\n",
              "17081   True      0.970000\n",
              "39891   True      0.990000\n",
              "50430   True      0.950000\n",
              "51097   True      0.978588\n",
              "24339   True      0.950000\n",
              "21163   True      0.950000\n",
              "38514   True      0.955047\n",
              "52261   True      0.980000\n",
              "5852    True      0.960000\n",
              "28368   True      1.000000\n",
              "38522   True      0.970000\n",
              "49721   True      1.000000\n",
              "21979   True      0.950000\n",
              "43236   True      0.970000\n",
              "38387   True      0.950000\n",
              "32844   True      0.990000\n",
              "6529    True      0.995912\n",
              "12274   True      0.984643\n",
              "40129   True      1.000000\n",
              "8367    True      0.940000\n",
              "37326   True      0.990000\n",
              "8350    True      1.000000\n",
              "50686   True      0.990000\n",
              "2447    True      1.000000\n",
              "3986    True      0.970000\n",
              "28498   True      0.950286\n",
              "52538   True      0.990000\n",
              "33788   True      0.980000\n",
              "19275   True      0.990000\n",
              "29894   True      1.000000\n",
              "2920    True      0.970618"
            ]
          },
          "metadata": {
            "tags": []
          },
          "execution_count": 92
        }
      ]
    },
    {
      "cell_type": "code",
      "metadata": {
        "id": "g6_w9dUjuRy0",
        "colab_type": "code",
        "colab": {
          "base_uri": "https://localhost:8080/",
          "height": 50
        },
        "outputId": "8f6bfa39-aecc-47c8-86c2-f6f34459528b"
      },
      "source": [
        "# Lets see how many of our recs were relevant?\n",
        "trips = 2000\n",
        "print(f'Baseline: {trips * 0.46} waterpump repairs in {trips} trips')\n",
        "\n",
        "relevant_recommendations = top2000['y_val'].sum()\n",
        "print(f'With model: Predict {relevant_recommendations} waterpump repairs in {trips} trips')"
      ],
      "execution_count": 95,
      "outputs": [
        {
          "output_type": "stream",
          "text": [
            "Baseline: 920.0 waterpump repairs in 2000 trips\n",
            "With model: Predict 1983 waterpump repairs in 2000 trips\n"
          ],
          "name": "stdout"
        }
      ]
    },
    {
      "cell_type": "code",
      "metadata": {
        "id": "6eZ7Hr1BuYda",
        "colab_type": "code",
        "colab": {
          "base_uri": "https://localhost:8080/",
          "height": 34
        },
        "outputId": "50202258-b945-480e-e399-bcdbab7aad9f"
      },
      "source": [
        "# This is the precision for this subset of 2k predictions:\n",
        "precision_at_k_2000 = relevant_recommendations / trips\n",
        "print('Precision @ k=2000', precision_at_k_2000)"
      ],
      "execution_count": 99,
      "outputs": [
        {
          "output_type": "stream",
          "text": [
            "Precision @ k=2000 0.9915\n"
          ],
          "name": "stdout"
        }
      ]
    },
    {
      "cell_type": "code",
      "metadata": {
        "id": "D369nyK_PsM0",
        "colab_type": "code",
        "colab": {}
      },
      "source": [
        "my_submission = sample_submission.copy()\n",
        "my_submission['status_group'] = y_pred\n",
        "my_submission.to_csv('JAL_Dec_13_Kaggle_Challenge_2.csv', index=False)\n",
        "\n",
        "from google.colab import files\n",
        "files.download('JAL_Dec_13_Kaggle_Challenge_2.csv')"
      ],
      "execution_count": 0,
      "outputs": []
    }
  ]
}